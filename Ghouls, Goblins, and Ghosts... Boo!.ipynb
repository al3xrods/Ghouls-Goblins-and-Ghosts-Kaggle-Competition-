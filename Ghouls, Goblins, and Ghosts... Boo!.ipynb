{
 "cells": [
  {
   "cell_type": "code",
   "execution_count": 1,
   "id": "3e4a4709",
   "metadata": {},
   "outputs": [],
   "source": [
    "import numpy as np\n",
    "import matplotlib.pyplot as plt\n",
    "import seaborn as sns\n",
    "import pandas as pd\n",
    "import scipy.stats as stats"
   ]
  },
  {
   "cell_type": "code",
   "execution_count": 2,
   "id": "cc92f79a",
   "metadata": {},
   "outputs": [],
   "source": [
    "plt.rcParams['figure.figsize'] = (14,5)\n",
    "plt.rcParams[\"font.family\"] = \"monospace\"\n",
    "plt.rcParams['axes.edgecolor'] = 'black'\n",
    "\n",
    "plt.rcParams['figure.frameon'] = True\n",
    "plt.rcParams['axes.linewidth'] = 1.5\n",
    "\n",
    "import warnings\n",
    "warnings.filterwarnings(\"ignore\")"
   ]
  },
  {
   "cell_type": "code",
   "execution_count": 3,
   "id": "79628d0d",
   "metadata": {},
   "outputs": [
    {
     "data": {
      "text/html": [
       "<div>\n",
       "<style scoped>\n",
       "    .dataframe tbody tr th:only-of-type {\n",
       "        vertical-align: middle;\n",
       "    }\n",
       "\n",
       "    .dataframe tbody tr th {\n",
       "        vertical-align: top;\n",
       "    }\n",
       "\n",
       "    .dataframe thead th {\n",
       "        text-align: right;\n",
       "    }\n",
       "</style>\n",
       "<table border=\"1\" class=\"dataframe\">\n",
       "  <thead>\n",
       "    <tr style=\"text-align: right;\">\n",
       "      <th></th>\n",
       "      <th>bone_length</th>\n",
       "      <th>rotting_flesh</th>\n",
       "      <th>hair_length</th>\n",
       "      <th>has_soul</th>\n",
       "      <th>color</th>\n",
       "      <th>type</th>\n",
       "    </tr>\n",
       "  </thead>\n",
       "  <tbody>\n",
       "    <tr>\n",
       "      <th>0</th>\n",
       "      <td>0.354512</td>\n",
       "      <td>0.350839</td>\n",
       "      <td>0.465761</td>\n",
       "      <td>0.781142</td>\n",
       "      <td>clear</td>\n",
       "      <td>Ghoul</td>\n",
       "    </tr>\n",
       "    <tr>\n",
       "      <th>1</th>\n",
       "      <td>0.575560</td>\n",
       "      <td>0.425868</td>\n",
       "      <td>0.531401</td>\n",
       "      <td>0.439899</td>\n",
       "      <td>green</td>\n",
       "      <td>Goblin</td>\n",
       "    </tr>\n",
       "    <tr>\n",
       "      <th>2</th>\n",
       "      <td>0.467875</td>\n",
       "      <td>0.354330</td>\n",
       "      <td>0.811616</td>\n",
       "      <td>0.791225</td>\n",
       "      <td>black</td>\n",
       "      <td>Ghoul</td>\n",
       "    </tr>\n",
       "    <tr>\n",
       "      <th>3</th>\n",
       "      <td>0.776652</td>\n",
       "      <td>0.508723</td>\n",
       "      <td>0.636766</td>\n",
       "      <td>0.884464</td>\n",
       "      <td>black</td>\n",
       "      <td>Ghoul</td>\n",
       "    </tr>\n",
       "    <tr>\n",
       "      <th>4</th>\n",
       "      <td>0.566117</td>\n",
       "      <td>0.875862</td>\n",
       "      <td>0.418594</td>\n",
       "      <td>0.636438</td>\n",
       "      <td>green</td>\n",
       "      <td>Ghost</td>\n",
       "    </tr>\n",
       "  </tbody>\n",
       "</table>\n",
       "</div>"
      ],
      "text/plain": [
       "   bone_length  rotting_flesh  hair_length  has_soul  color    type\n",
       "0     0.354512       0.350839     0.465761  0.781142  clear   Ghoul\n",
       "1     0.575560       0.425868     0.531401  0.439899  green  Goblin\n",
       "2     0.467875       0.354330     0.811616  0.791225  black   Ghoul\n",
       "3     0.776652       0.508723     0.636766  0.884464  black   Ghoul\n",
       "4     0.566117       0.875862     0.418594  0.636438  green   Ghost"
      ]
     },
     "execution_count": 3,
     "metadata": {},
     "output_type": "execute_result"
    }
   ],
   "source": [
    "df = pd.read_csv(\"train.csv\").drop(columns=\"id\")\n",
    "df.head()"
   ]
  },
  {
   "cell_type": "code",
   "execution_count": 4,
   "id": "e8a73e3c",
   "metadata": {},
   "outputs": [
    {
     "name": "stdout",
     "output_type": "stream",
     "text": [
      "The dataset has 371 rows and 6 columns.\n"
     ]
    }
   ],
   "source": [
    "print(f\"The dataset has {df.shape[0]} rows and {df.shape[1]} columns.\")"
   ]
  },
  {
   "cell_type": "code",
   "execution_count": 5,
   "id": "b15f3e30",
   "metadata": {},
   "outputs": [
    {
     "name": "stdout",
     "output_type": "stream",
     "text": [
      "<class 'pandas.core.frame.DataFrame'>\n",
      "RangeIndex: 371 entries, 0 to 370\n",
      "Data columns (total 6 columns):\n",
      " #   Column         Non-Null Count  Dtype  \n",
      "---  ------         --------------  -----  \n",
      " 0   bone_length    371 non-null    float64\n",
      " 1   rotting_flesh  371 non-null    float64\n",
      " 2   hair_length    371 non-null    float64\n",
      " 3   has_soul       371 non-null    float64\n",
      " 4   color          371 non-null    object \n",
      " 5   type           371 non-null    object \n",
      "dtypes: float64(4), object(2)\n",
      "memory usage: 17.5+ KB\n"
     ]
    }
   ],
   "source": [
    "df.info()"
   ]
  },
  {
   "cell_type": "code",
   "execution_count": 6,
   "id": "f291835d",
   "metadata": {},
   "outputs": [],
   "source": [
    "df[\"color\"]=df.color.astype(\"category\", copy=False)"
   ]
  },
  {
   "cell_type": "code",
   "execution_count": 7,
   "id": "9dee9832",
   "metadata": {
    "scrolled": true
   },
   "outputs": [
    {
     "data": {
      "text/plain": [
       "white    137\n",
       "clear    120\n",
       "green     42\n",
       "black     41\n",
       "blue      19\n",
       "blood     12\n",
       "Name: color, dtype: int64"
      ]
     },
     "execution_count": 7,
     "metadata": {},
     "output_type": "execute_result"
    }
   ],
   "source": [
    "df.color.value_counts()"
   ]
  },
  {
   "cell_type": "code",
   "execution_count": null,
   "id": "023910b0",
   "metadata": {},
   "outputs": [],
   "source": [
    "df.describe()"
   ]
  },
  {
   "cell_type": "code",
   "execution_count": null,
   "id": "234fa3be",
   "metadata": {},
   "outputs": [],
   "source": [
    "# sns.pairplot(df, hue='type');"
   ]
  },
  {
   "cell_type": "code",
   "execution_count": null,
   "id": "35cfbe5c",
   "metadata": {},
   "outputs": [],
   "source": [
    "for i, v in enumerate(df.columns[:4],1):\n",
    "    plt.subplot(1,4,i)\n",
    "    sns.ecdfplot(x=v, data=df, hue=\"type\")\n",
    "    plt.suptitle(\"ECDF Plots\")\n",
    "    sns.despine()"
   ]
  },
  {
   "cell_type": "markdown",
   "id": "2e40b2ee",
   "metadata": {},
   "source": [
    "# 1.$\\textbf{ANOVA on Various Features.}$\n",
    "\n",
    "The ANOVA test has important assumptions that must be satisfied in order for the associated p-value to be valid.\n",
    "\n",
    "1. The samples are independent.\n",
    "2. Each sample is from a normally distributed population.\n",
    "3. The population standard deviations of the groups are all equal. This property is known as homoscedasticity."
   ]
  },
  {
   "cell_type": "markdown",
   "id": "52bb4d7d",
   "metadata": {},
   "source": [
    "#### 1.2 $\\textbf{Check Normality on Each Monster For All Features.}$\n",
    "\n",
    "$H_0: X \\sim \\mathcal{N}(\\mu,\\,\\sigma^{2})$"
   ]
  },
  {
   "cell_type": "code",
   "execution_count": null,
   "id": "c669074b",
   "metadata": {
    "scrolled": true
   },
   "outputs": [],
   "source": [
    "for monster, feat in zip(df.type.unique(), df.columns[:4]):\n",
    "\n",
    "    monster_type = df[df[\"type\"]==monster][[feat]]\n",
    "    \n",
    "    print(f\"Normality of {monster} on {feat} Feature.\")\n",
    "\n",
    "    _, p_val = stats.normaltest(monster_type)\n",
    "    if p_val <.05:\n",
    "        print(\"P:Value:\",p_val, \"- Reject Null Hypotesis\")\n",
    "    else:\n",
    "        print(\"P:Value:\",p_val, \"- Cannot Reject Null Hypotesis\")\n",
    "        \n",
    "    print(\"\\n\")"
   ]
  },
  {
   "cell_type": "markdown",
   "id": "0b610d09",
   "metadata": {},
   "source": [
    "#### 1.3 Check Equal Variances on Each Monster For All Features.\n",
    "We can check for homoscedasticity by using the Bartlett’s test instead of Levene’s test because the samples there are not  significant deviations from normality.\n",
    "\n",
    "$H_0:$ $\\sigma_1$ = $\\sigma_2$ = $\\sigma_3$"
   ]
  },
  {
   "cell_type": "code",
   "execution_count": null,
   "id": "1349614d",
   "metadata": {
    "scrolled": true
   },
   "outputs": [],
   "source": [
    "for i in df.columns[:4]:\n",
    "    \n",
    "    print(f\"Bartlett's Test on {i} Feature.\")\n",
    "    \n",
    "    ghoul = df[df[\"type\"]==\"Ghoul\"][i]\n",
    "    goblin = df[df[\"type\"]==\"Goblin\"][i]\n",
    "    ghost = df[df[\"type\"]==\"Ghost\"][i]\n",
    "    \n",
    "    _, p_val = stats.bartlett(ghoul, goblin, ghost)\n",
    "    if p_val <.05:\n",
    "        print(\"P:Value:\",p_val, \"- Reject Null Hypotesis\")\n",
    "    else:\n",
    "        print(\"P:Value:\",p_val, \"- Cannot Reject Null Hypotesis\")\n",
    "        \n",
    "    print(\"Variance:\", [np.round(np.var(x, ddof=1),4) for x in [ghoul, goblin, ghost]])\n",
    "    print(\"\\n\")"
   ]
  },
  {
   "cell_type": "markdown",
   "id": "e3c79f97",
   "metadata": {},
   "source": [
    "Note: The variance of Ghoul on Rotting Flesh is about 1.5 less than other monsters."
   ]
  },
  {
   "cell_type": "markdown",
   "id": "f52dea4e",
   "metadata": {},
   "source": [
    "#### 1.4 ANOVA Test.\n",
    "$H_0:$ $\\mu_1$ = $\\mu_2$ = $\\mu_3$"
   ]
  },
  {
   "cell_type": "code",
   "execution_count": null,
   "id": "4c5dd7f4",
   "metadata": {},
   "outputs": [],
   "source": [
    "for i in df.columns[:4]:\n",
    "    \n",
    "    print(f\"ANOVA on f{i} Feature.\")\n",
    "    \n",
    "    ghoul = df[df[\"type\"]==\"Ghoul\"][[i]]\n",
    "    goblin = df[df[\"type\"]==\"Goblin\"][[i]]\n",
    "    ghost = df[df[\"type\"]==\"Ghost\"][[i]]\n",
    "    \n",
    "    _, p_val = stats.f_oneway(ghoul, goblin, ghost)\n",
    "    if p_val <.05:\n",
    "        print(p_val, \": Reject Null Hypotesis\")\n",
    "    else:\n",
    "        print(p_val, \": Cannot Reject Null Hypotesis\")\n",
    "        \n",
    "    print(\"\\n\")"
   ]
  },
  {
   "cell_type": "markdown",
   "id": "53f0ddc3",
   "metadata": {},
   "source": [
    "# Classification Task"
   ]
  },
  {
   "cell_type": "code",
   "execution_count": 29,
   "id": "0091a968",
   "metadata": {},
   "outputs": [],
   "source": [
    "from sklearn.preprocessing import StandardScaler, OneHotEncoder, PolynomialFeatures, LabelEncoder, KBinsDiscretizer\n",
    "from sklearn.pipeline import make_pipeline\n",
    "from sklearn.compose import make_column_transformer\n",
    "from sklearn.model_selection import cross_val_score, GridSearchCV, train_test_split\n",
    "from sklearn.ensemble import AdaBoostClassifier, ExtraTreesClassifier, RandomForestClassifier, StackingClassifier\n",
    "from sklearn.linear_model import LogisticRegression\n",
    "from sklearn.svm import LinearSVC\n",
    "from sklearn.decomposition import PCA\n",
    "from sklearn.discriminant_analysis import LinearDiscriminantAnalysis\n",
    "from sklearn.neighbors import KNeighborsClassifier, NeighborhoodComponentsAnalysis\n",
    "from sklearn.calibration import CalibratedClassifierCV"
   ]
  },
  {
   "cell_type": "code",
   "execution_count": 10,
   "id": "1280d732",
   "metadata": {},
   "outputs": [],
   "source": [
    "X = df.drop(columns=[\"type\"])\n",
    "y = df.type"
   ]
  },
  {
   "cell_type": "code",
   "execution_count": 11,
   "id": "cca6a5d0",
   "metadata": {},
   "outputs": [],
   "source": [
    "lb = LabelEncoder()"
   ]
  },
  {
   "cell_type": "code",
   "execution_count": 12,
   "id": "9ef97051",
   "metadata": {},
   "outputs": [],
   "source": [
    "X_train, X_test, y_train, y_test = train_test_split(X, \n",
    "                                                    y, \n",
    "                                                    train_size=.85, \n",
    "                                                    random_state=0, \n",
    "                                                    stratify=y)"
   ]
  },
  {
   "cell_type": "code",
   "execution_count": 13,
   "id": "edf96e30",
   "metadata": {},
   "outputs": [],
   "source": [
    "y_train = lb.fit_transform(y_train)\n",
    "y_test = lb.transform(y_test)"
   ]
  },
  {
   "cell_type": "code",
   "execution_count": 14,
   "id": "ec2109c1",
   "metadata": {},
   "outputs": [
    {
     "data": {
      "text/plain": [
       "['bone_length', 'rotting_flesh', 'hair_length', 'has_soul']"
      ]
     },
     "execution_count": 14,
     "metadata": {},
     "output_type": "execute_result"
    }
   ],
   "source": [
    "num_cols = [col for col in X.columns if df[col].dtype!=\"category\"]\n",
    "num_cols"
   ]
  },
  {
   "cell_type": "code",
   "execution_count": 16,
   "id": "cfa7a16c",
   "metadata": {},
   "outputs": [],
   "source": [
    "# Numerical Columns\n",
    "num_pipe = make_pipeline(PolynomialFeatures(), \n",
    "                         StandardScaler()\n",
    "                        )\n",
    "\n",
    "\n",
    "col_t = make_column_transformer(\n",
    "                                (num_pipe, num_cols),\n",
    "                                (OneHotEncoder(sparse=False), [\"color\"]))"
   ]
  },
  {
   "cell_type": "code",
   "execution_count": 41,
   "id": "8fb753fa",
   "metadata": {},
   "outputs": [],
   "source": [
    "def preprocessing(*args):\n",
    "    \n",
    "    num_pipe = make_pipeline(PolynomialFeatures(), \n",
    "                             StandardScaler(),\n",
    "                             args\n",
    "                            )\n",
    "\n",
    "\n",
    "    col_t = make_column_transformer(\n",
    "                                (num_pipe, num_cols),\n",
    "                                (OneHotEncoder(sparse=False), [\"color\"]))\n",
    "    \n",
    "    "
   ]
  },
  {
   "cell_type": "code",
   "execution_count": 21,
   "id": "ce558ce0",
   "metadata": {},
   "outputs": [],
   "source": [
    "def model_fit(pipe, param_grid):\n",
    "        \n",
    "    grid = GridSearchCV(pipe, \n",
    "                        param_grid=param_grid, \n",
    "                        n_jobs=-1, \n",
    "                        scoring='accuracy', \n",
    "                        error_score=\"raise\", \n",
    "                        cv=5)\n",
    "\n",
    "    grid.fit(X_train, y_train)\n",
    "\n",
    "    print(\"Best Params:\", grid.best_params_)\n",
    "    print(\"Best Score:\", np.abs(grid.best_score_))"
   ]
  },
  {
   "cell_type": "code",
   "execution_count": 19,
   "id": "c47aac25",
   "metadata": {},
   "outputs": [],
   "source": [
    "clf = LogisticRegression(fit_intercept=False, \n",
    "                         n_jobs=-1, \n",
    "                         random_state=0)\n",
    "\n",
    "f_pipe = make_pipeline(col_t, clf)\n",
    "\n",
    "C = np.linspace(.001, 1, 15)\n",
    "param_grid = {\"logisticregression__C\": C, \n",
    "             \"logisticregression__multi_class\":[\"multinomial\", \"ovr\"]}\n",
    "\n",
    "## Classes are .33 each one so no need to adjust weights.\n",
    "\n",
    "#model_fit(pipe = f_pipe, param_grid=param_grid)\n",
    "\n",
    "# Best Params: {'logisticregression__C': 0.6432142857142857, \n",
    "#               'logisticregression__multi_class': 'multinomial'}\n",
    "    \n",
    "# Best Score: 0.7682539682539683"
   ]
  },
  {
   "cell_type": "code",
   "execution_count": 25,
   "id": "24114a05",
   "metadata": {},
   "outputs": [],
   "source": [
    "num_pipe = make_pipeline(PolynomialFeatures(), \n",
    "                         PCA(n_components=.9), \n",
    "                         StandardScaler(), \n",
    "                         KBinsDiscretizer(encode=\"onehot-dense\"))\n",
    "\n",
    "col_t = make_column_transformer(\n",
    "                                (num_pipe, num_cols),\n",
    "                                (OneHotEncoder(sparse=False), [\"color\"]))\n",
    "\n",
    "param_grid = {\"logisticregression__C\": C, \n",
    "             \"logisticregression__multi_class\":[\"multinomial\", \"ovr\"], \n",
    "             \"columntransformer__pipeline__kbinsdiscretizer__n_bins\":np.arange(4,10)}\n",
    "\n",
    "f_pipe = make_pipeline(col_t, clf)\n",
    "\n",
    "#model_fit(pipe=f_pipe, param_grid=param_grid)\n",
    "\n",
    "# Best Params: {'columntransformer__pipeline__kbinsdiscretizer__n_bins': 9, \n",
    "#               'logisticregression__C': 0.9286428571428571, \n",
    "#               'logisticregression__multi_class': 'ovr'}\n",
    "    \n",
    "# Best Score: 0.7396825396825396"
   ]
  },
  {
   "cell_type": "code",
   "execution_count": null,
   "id": "1bdca779",
   "metadata": {},
   "outputs": [],
   "source": [
    "clf = LinearDiscriminantAnalysis()\n",
    "\n",
    "results = cross_val_score(f_pipe, \n",
    "                          X_train, \n",
    "                          y_train, \n",
    "                          scoring='accuracy', \n",
    "                          cv=5, \n",
    "                          n_jobs=-1,\n",
    "                          error_score=\"raise\")\n",
    "\n",
    "print(\"Mean Accuracy Score:\", np.mean(results)) # 0.7365079365079364"
   ]
  },
  {
   "cell_type": "code",
   "execution_count": 27,
   "id": "af035ae0",
   "metadata": {},
   "outputs": [
    {
     "name": "stdout",
     "output_type": "stream",
     "text": [
      "Best Params: {'randomforestclassifier__max_depth': 5, 'randomforestclassifier__max_samples': 0.5, 'randomforestclassifier__min_samples_leaf': 4, 'randomforestclassifier__n_estimators': 100}\n",
      "Best Score: 0.7333333333333334\n"
     ]
    }
   ],
   "source": [
    "clf = RandomForestClassifier(random_state=0, n_jobs=-1, warm_start=True)\n",
    "\n",
    "param_grid = {\"randomforestclassifier__max_depth\": np.arange(3, 7), \n",
    "             \"randomforestclassifier__n_estimators\": np.arange(100, 400, 100), \n",
    "             \"randomforestclassifier__max_samples\": np.linspace(.5, 1, 3), \n",
    "             \"randomforestclassifier__min_samples_leaf\": np.arange(1,5)}\n",
    "\n",
    "num_pipe = make_pipeline(PolynomialFeatures(), \n",
    "                         PCA(n_components=.9), \n",
    "                         StandardScaler())\n",
    "\n",
    "col_t = make_column_transformer(\n",
    "                                (num_pipe, num_cols),\n",
    "                                (OneHotEncoder(sparse=False), [\"color\"]))\n",
    "\n",
    "f_pipe = make_pipeline(col_t, clf)\n",
    "\n",
    "model_fit(pipe=f_pipe, param_grid=param_grid)\n",
    "\n",
    "# Best Params: {'randomforestclassifier__max_depth': 4, \n",
    "#               'randomforestclassifier__max_samples': 0.75, \n",
    "#               'randomforestclassifier__min_samples_leaf': 2, \n",
    "#               'randomforestclassifier__n_estimators': 200}\n",
    "    \n",
    "# Best Score: 0.7619047619047619"
   ]
  },
  {
   "cell_type": "code",
   "execution_count": null,
   "id": "8591a182",
   "metadata": {},
   "outputs": [],
   "source": [
    "rf = RandomForestClassifier(random_state=0, \n",
    "                  n_jobs=-1, \n",
    "                  max_depth=4, \n",
    "                  max_samples=.75, \n",
    "                  min_samples_leaf=2, \n",
    "                  n_estimators=200, \n",
    "                  max_features=None)\n",
    "\n",
    "clf = CalibratedClassifierCV(rf, n_jobs=-1)\n",
    "\n",
    "results = cross_val_score(f_pipe, \n",
    "                          X_train, \n",
    "                          y_train, \n",
    "                          scoring='accuracy', \n",
    "                          cv=5, \n",
    "                          n_jobs=-1,\n",
    "                          error_score=\"raise\")\n",
    "\n",
    "print(\"Mean Accuracy Score:\", np.mean(results)) # 0.7746031746031745"
   ]
  },
  {
   "cell_type": "code",
   "execution_count": null,
   "id": "4acf6940",
   "metadata": {},
   "outputs": [],
   "source": [
    "logreg = LogisticRegression(C=.64,\n",
    "                            fit_intercept=False, \n",
    "                            n_jobs=-1, \n",
    "                            random_state=0)\n",
    "\n",
    "knn = clf = KNeighborsClassifier(n_jobs=-1, n_neighbors=4)\n",
    "\n",
    "rf = RandomForestClassifier(random_state=0, \n",
    "                  n_jobs=-1, \n",
    "                  max_depth=4, \n",
    "                  max_samples=.75, \n",
    "                  min_samples_leaf=2, \n",
    "                  n_estimators=200, \n",
    "                  max_features=None)\n",
    "\n",
    "ccf = CalibratedClassifierCV(rf, n_jobs=-1)\n",
    "\n",
    "estimators = [(\"knn\", knn), (\"ccf\", ccf)]\n",
    "\n",
    "clf = StackingClassifier(estimators, final_estimator=logreg, n_jobs=-1)\n",
    "\n",
    "f_pipe.fit(X_train, y_train)"
   ]
  },
  {
   "cell_type": "code",
   "execution_count": null,
   "id": "0814197c",
   "metadata": {},
   "outputs": [],
   "source": [
    "test = pd.read_csv(\"test.csv\")\n",
    "id_ = test.id\n",
    "test = test.drop(columns=[\"id\"])"
   ]
  },
  {
   "cell_type": "code",
   "execution_count": null,
   "id": "20eb1416",
   "metadata": {},
   "outputs": [],
   "source": [
    "y_pred = f_pipe.predict(test)\n",
    "y_pred = lb.inverse_transform(y_pred)"
   ]
  },
  {
   "cell_type": "code",
   "execution_count": null,
   "id": "7f030bcc",
   "metadata": {},
   "outputs": [],
   "source": [
    "# submission = pd.DataFrame({\"type\":y_pred}, index=id_)\n",
    "# submission.to_csv('submission.csv')"
   ]
  },
  {
   "cell_type": "code",
   "execution_count": null,
   "id": "991273c7",
   "metadata": {},
   "outputs": [],
   "source": []
  }
 ],
 "metadata": {
  "kernelspec": {
   "display_name": "Python 3 (ipykernel)",
   "language": "python",
   "name": "python3"
  },
  "language_info": {
   "codemirror_mode": {
    "name": "ipython",
    "version": 3
   },
   "file_extension": ".py",
   "mimetype": "text/x-python",
   "name": "python",
   "nbconvert_exporter": "python",
   "pygments_lexer": "ipython3",
   "version": "3.9.13"
  }
 },
 "nbformat": 4,
 "nbformat_minor": 5
}
